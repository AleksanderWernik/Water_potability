{
 "cells": [
  {
   "cell_type": "code",
   "execution_count": 21,
   "id": "b3a66fed",
   "metadata": {},
   "outputs": [],
   "source": [
    "import pandas as pd\n",
    "import numpy as np\n",
    "import matplotlib.pyplot as plt\n",
    "import seaborn as sns"
   ]
  },
  {
   "cell_type": "markdown",
   "id": "6aeb86b2",
   "metadata": {},
   "source": [
    "# Feature Description"
   ]
  },
  {
   "cell_type": "code",
   "execution_count": 3,
   "id": "0dd67a88",
   "metadata": {},
   "outputs": [],
   "source": [
    "# pH of water  (for drinkable water should be between 6,5 and 9,5)\n",
    "# Hardness - Capacity of water to precipitate soap in mg/L  (for drinkable water max is 500)\n",
    "# Solids - Total dissolved solids in ppm (for drinkable water max is 500ppm)\n",
    "# Chloramines - Amount of Chloramines in ppm (for drinkable water max is 4ppm)\n",
    "# Sulfate - Amount of Sulfates dissolved in mg/L (for drinkable water max is 250)\n",
    "# Conductivity - Electrical conductivity of water in μS/cm (for drinkable water max is 2500)\n",
    "# Organic_carbon - Amount of organic carbon in ppm (for drinkable water max 10ppm)\n",
    "# Trihalomethanes - Amount of Trihalomethanes in μg/L (max 100)\n",
    "# Turbidity - Measure of light emiting property of water in NTU (Nephelometric Turbidity Units) (max 1NTU)\n",
    "# Potability - indicates if water is safe for human consumption (1 - drinkable, 0 - not drinkable)"
   ]
  },
  {
   "cell_type": "markdown",
   "id": "b9f80b24",
   "metadata": {},
   "source": [
    "# Importing The Dataset"
   ]
  },
  {
   "cell_type": "code",
   "execution_count": 2,
   "id": "f61518c8",
   "metadata": {},
   "outputs": [],
   "source": [
    "df=pd.read_csv('waterpotability.csv')"
   ]
  },
  {
   "cell_type": "code",
   "execution_count": 4,
   "id": "864adfd0",
   "metadata": {},
   "outputs": [
    {
     "data": {
      "text/html": [
       "<div>\n",
       "<style scoped>\n",
       "    .dataframe tbody tr th:only-of-type {\n",
       "        vertical-align: middle;\n",
       "    }\n",
       "\n",
       "    .dataframe tbody tr th {\n",
       "        vertical-align: top;\n",
       "    }\n",
       "\n",
       "    .dataframe thead th {\n",
       "        text-align: right;\n",
       "    }\n",
       "</style>\n",
       "<table border=\"1\" class=\"dataframe\">\n",
       "  <thead>\n",
       "    <tr style=\"text-align: right;\">\n",
       "      <th></th>\n",
       "      <th>ph</th>\n",
       "      <th>Hardness</th>\n",
       "      <th>Solids</th>\n",
       "      <th>Chloramines</th>\n",
       "      <th>Sulfate</th>\n",
       "      <th>Conductivity</th>\n",
       "      <th>Organic_carbon</th>\n",
       "      <th>Trihalomethanes</th>\n",
       "      <th>Turbidity</th>\n",
       "      <th>Potability</th>\n",
       "    </tr>\n",
       "  </thead>\n",
       "  <tbody>\n",
       "    <tr>\n",
       "      <th>0</th>\n",
       "      <td>NaN</td>\n",
       "      <td>204.890455</td>\n",
       "      <td>20791.318981</td>\n",
       "      <td>7.300212</td>\n",
       "      <td>368.516441</td>\n",
       "      <td>564.308654</td>\n",
       "      <td>10.379783</td>\n",
       "      <td>86.990970</td>\n",
       "      <td>2.963135</td>\n",
       "      <td>0</td>\n",
       "    </tr>\n",
       "    <tr>\n",
       "      <th>1</th>\n",
       "      <td>3.716080</td>\n",
       "      <td>129.422921</td>\n",
       "      <td>18630.057858</td>\n",
       "      <td>6.635246</td>\n",
       "      <td>NaN</td>\n",
       "      <td>592.885359</td>\n",
       "      <td>15.180013</td>\n",
       "      <td>56.329076</td>\n",
       "      <td>4.500656</td>\n",
       "      <td>0</td>\n",
       "    </tr>\n",
       "    <tr>\n",
       "      <th>2</th>\n",
       "      <td>8.099124</td>\n",
       "      <td>224.236259</td>\n",
       "      <td>19909.541732</td>\n",
       "      <td>9.275884</td>\n",
       "      <td>NaN</td>\n",
       "      <td>418.606213</td>\n",
       "      <td>16.868637</td>\n",
       "      <td>66.420093</td>\n",
       "      <td>3.055934</td>\n",
       "      <td>0</td>\n",
       "    </tr>\n",
       "    <tr>\n",
       "      <th>3</th>\n",
       "      <td>8.316766</td>\n",
       "      <td>214.373394</td>\n",
       "      <td>22018.417441</td>\n",
       "      <td>8.059332</td>\n",
       "      <td>356.886136</td>\n",
       "      <td>363.266516</td>\n",
       "      <td>18.436524</td>\n",
       "      <td>100.341674</td>\n",
       "      <td>4.628771</td>\n",
       "      <td>0</td>\n",
       "    </tr>\n",
       "    <tr>\n",
       "      <th>4</th>\n",
       "      <td>9.092223</td>\n",
       "      <td>181.101509</td>\n",
       "      <td>17978.986339</td>\n",
       "      <td>6.546600</td>\n",
       "      <td>310.135738</td>\n",
       "      <td>398.410813</td>\n",
       "      <td>11.558279</td>\n",
       "      <td>31.997993</td>\n",
       "      <td>4.075075</td>\n",
       "      <td>0</td>\n",
       "    </tr>\n",
       "  </tbody>\n",
       "</table>\n",
       "</div>"
      ],
      "text/plain": [
       "         ph    Hardness        Solids  Chloramines     Sulfate  Conductivity  \\\n",
       "0       NaN  204.890455  20791.318981     7.300212  368.516441    564.308654   \n",
       "1  3.716080  129.422921  18630.057858     6.635246         NaN    592.885359   \n",
       "2  8.099124  224.236259  19909.541732     9.275884         NaN    418.606213   \n",
       "3  8.316766  214.373394  22018.417441     8.059332  356.886136    363.266516   \n",
       "4  9.092223  181.101509  17978.986339     6.546600  310.135738    398.410813   \n",
       "\n",
       "   Organic_carbon  Trihalomethanes  Turbidity  Potability  \n",
       "0       10.379783        86.990970   2.963135           0  \n",
       "1       15.180013        56.329076   4.500656           0  \n",
       "2       16.868637        66.420093   3.055934           0  \n",
       "3       18.436524       100.341674   4.628771           0  \n",
       "4       11.558279        31.997993   4.075075           0  "
      ]
     },
     "execution_count": 4,
     "metadata": {},
     "output_type": "execute_result"
    }
   ],
   "source": [
    "df.head()"
   ]
  },
  {
   "cell_type": "code",
   "execution_count": 5,
   "id": "dca22327",
   "metadata": {},
   "outputs": [
    {
     "data": {
      "text/html": [
       "<div>\n",
       "<style scoped>\n",
       "    .dataframe tbody tr th:only-of-type {\n",
       "        vertical-align: middle;\n",
       "    }\n",
       "\n",
       "    .dataframe tbody tr th {\n",
       "        vertical-align: top;\n",
       "    }\n",
       "\n",
       "    .dataframe thead th {\n",
       "        text-align: right;\n",
       "    }\n",
       "</style>\n",
       "<table border=\"1\" class=\"dataframe\">\n",
       "  <thead>\n",
       "    <tr style=\"text-align: right;\">\n",
       "      <th></th>\n",
       "      <th>ph</th>\n",
       "      <th>Hardness</th>\n",
       "      <th>Solids</th>\n",
       "      <th>Chloramines</th>\n",
       "      <th>Sulfate</th>\n",
       "      <th>Conductivity</th>\n",
       "      <th>Organic_carbon</th>\n",
       "      <th>Trihalomethanes</th>\n",
       "      <th>Turbidity</th>\n",
       "      <th>Potability</th>\n",
       "    </tr>\n",
       "  </thead>\n",
       "  <tbody>\n",
       "    <tr>\n",
       "      <th>count</th>\n",
       "      <td>2785.000000</td>\n",
       "      <td>3267.000000</td>\n",
       "      <td>3267.000000</td>\n",
       "      <td>3267.000000</td>\n",
       "      <td>2495.000000</td>\n",
       "      <td>3267.000000</td>\n",
       "      <td>3267.000000</td>\n",
       "      <td>3114.000000</td>\n",
       "      <td>3267.000000</td>\n",
       "      <td>3267.000000</td>\n",
       "    </tr>\n",
       "    <tr>\n",
       "      <th>mean</th>\n",
       "      <td>7.080795</td>\n",
       "      <td>196.366063</td>\n",
       "      <td>22013.423893</td>\n",
       "      <td>7.123074</td>\n",
       "      <td>333.775777</td>\n",
       "      <td>426.144283</td>\n",
       "      <td>14.288057</td>\n",
       "      <td>66.396293</td>\n",
       "      <td>3.966987</td>\n",
       "      <td>0.396388</td>\n",
       "    </tr>\n",
       "    <tr>\n",
       "      <th>std</th>\n",
       "      <td>1.594320</td>\n",
       "      <td>32.893960</td>\n",
       "      <td>8760.888319</td>\n",
       "      <td>1.583597</td>\n",
       "      <td>41.416840</td>\n",
       "      <td>80.787862</td>\n",
       "      <td>3.308664</td>\n",
       "      <td>16.175008</td>\n",
       "      <td>0.780835</td>\n",
       "      <td>0.489222</td>\n",
       "    </tr>\n",
       "    <tr>\n",
       "      <th>min</th>\n",
       "      <td>0.000000</td>\n",
       "      <td>47.432000</td>\n",
       "      <td>320.942611</td>\n",
       "      <td>0.352000</td>\n",
       "      <td>129.000000</td>\n",
       "      <td>181.483754</td>\n",
       "      <td>2.200000</td>\n",
       "      <td>0.738000</td>\n",
       "      <td>1.450000</td>\n",
       "      <td>0.000000</td>\n",
       "    </tr>\n",
       "    <tr>\n",
       "      <th>25%</th>\n",
       "      <td>6.093092</td>\n",
       "      <td>176.847379</td>\n",
       "      <td>15665.106976</td>\n",
       "      <td>6.128488</td>\n",
       "      <td>307.699498</td>\n",
       "      <td>365.729707</td>\n",
       "      <td>12.066072</td>\n",
       "      <td>55.844536</td>\n",
       "      <td>3.439682</td>\n",
       "      <td>0.000000</td>\n",
       "    </tr>\n",
       "    <tr>\n",
       "      <th>50%</th>\n",
       "      <td>7.036752</td>\n",
       "      <td>196.952875</td>\n",
       "      <td>20965.478309</td>\n",
       "      <td>7.130437</td>\n",
       "      <td>333.073546</td>\n",
       "      <td>421.879854</td>\n",
       "      <td>14.221757</td>\n",
       "      <td>66.622485</td>\n",
       "      <td>3.955154</td>\n",
       "      <td>0.000000</td>\n",
       "    </tr>\n",
       "    <tr>\n",
       "      <th>75%</th>\n",
       "      <td>8.062066</td>\n",
       "      <td>216.660337</td>\n",
       "      <td>27334.162293</td>\n",
       "      <td>8.115043</td>\n",
       "      <td>359.950170</td>\n",
       "      <td>481.609194</td>\n",
       "      <td>16.559152</td>\n",
       "      <td>77.337473</td>\n",
       "      <td>4.500432</td>\n",
       "      <td>1.000000</td>\n",
       "    </tr>\n",
       "    <tr>\n",
       "      <th>max</th>\n",
       "      <td>14.000000</td>\n",
       "      <td>323.124000</td>\n",
       "      <td>61227.196008</td>\n",
       "      <td>13.127000</td>\n",
       "      <td>481.030642</td>\n",
       "      <td>753.342620</td>\n",
       "      <td>28.300000</td>\n",
       "      <td>124.000000</td>\n",
       "      <td>6.739000</td>\n",
       "      <td>1.000000</td>\n",
       "    </tr>\n",
       "  </tbody>\n",
       "</table>\n",
       "</div>"
      ],
      "text/plain": [
       "                ph     Hardness        Solids  Chloramines      Sulfate  \\\n",
       "count  2785.000000  3267.000000   3267.000000  3267.000000  2495.000000   \n",
       "mean      7.080795   196.366063  22013.423893     7.123074   333.775777   \n",
       "std       1.594320    32.893960   8760.888319     1.583597    41.416840   \n",
       "min       0.000000    47.432000    320.942611     0.352000   129.000000   \n",
       "25%       6.093092   176.847379  15665.106976     6.128488   307.699498   \n",
       "50%       7.036752   196.952875  20965.478309     7.130437   333.073546   \n",
       "75%       8.062066   216.660337  27334.162293     8.115043   359.950170   \n",
       "max      14.000000   323.124000  61227.196008    13.127000   481.030642   \n",
       "\n",
       "       Conductivity  Organic_carbon  Trihalomethanes    Turbidity   Potability  \n",
       "count   3267.000000     3267.000000      3114.000000  3267.000000  3267.000000  \n",
       "mean     426.144283       14.288057        66.396293     3.966987     0.396388  \n",
       "std       80.787862        3.308664        16.175008     0.780835     0.489222  \n",
       "min      181.483754        2.200000         0.738000     1.450000     0.000000  \n",
       "25%      365.729707       12.066072        55.844536     3.439682     0.000000  \n",
       "50%      421.879854       14.221757        66.622485     3.955154     0.000000  \n",
       "75%      481.609194       16.559152        77.337473     4.500432     1.000000  \n",
       "max      753.342620       28.300000       124.000000     6.739000     1.000000  "
      ]
     },
     "execution_count": 5,
     "metadata": {},
     "output_type": "execute_result"
    }
   ],
   "source": [
    "df.describe()"
   ]
  },
  {
   "cell_type": "code",
   "execution_count": 6,
   "id": "d2277f86",
   "metadata": {},
   "outputs": [
    {
     "name": "stdout",
     "output_type": "stream",
     "text": [
      "<class 'pandas.core.frame.DataFrame'>\n",
      "RangeIndex: 3267 entries, 0 to 3266\n",
      "Data columns (total 10 columns):\n",
      " #   Column           Non-Null Count  Dtype  \n",
      "---  ------           --------------  -----  \n",
      " 0   ph               2785 non-null   float64\n",
      " 1   Hardness         3267 non-null   float64\n",
      " 2   Solids           3267 non-null   float64\n",
      " 3   Chloramines      3267 non-null   float64\n",
      " 4   Sulfate          2495 non-null   float64\n",
      " 5   Conductivity     3267 non-null   float64\n",
      " 6   Organic_carbon   3267 non-null   float64\n",
      " 7   Trihalomethanes  3114 non-null   float64\n",
      " 8   Turbidity        3267 non-null   float64\n",
      " 9   Potability       3267 non-null   int64  \n",
      "dtypes: float64(9), int64(1)\n",
      "memory usage: 255.4 KB\n"
     ]
    }
   ],
   "source": [
    "df.info()"
   ]
  },
  {
   "cell_type": "code",
   "execution_count": 22,
   "id": "af337545",
   "metadata": {},
   "outputs": [
    {
     "data": {
      "text/plain": [
       "array([[<AxesSubplot:title={'center':'ph'}>,\n",
       "        <AxesSubplot:title={'center':'Hardness'}>,\n",
       "        <AxesSubplot:title={'center':'Solids'}>],\n",
       "       [<AxesSubplot:title={'center':'Chloramines'}>,\n",
       "        <AxesSubplot:title={'center':'Sulfate'}>,\n",
       "        <AxesSubplot:title={'center':'Conductivity'}>],\n",
       "       [<AxesSubplot:title={'center':'Organic_carbon'}>,\n",
       "        <AxesSubplot:title={'center':'Trihalomethanes'}>,\n",
       "        <AxesSubplot:title={'center':'Turbidity'}>]], dtype=object)"
      ]
     },
     "execution_count": 22,
     "metadata": {},
     "output_type": "execute_result"
    },
    {
     "data": {
      "image/png": "[encoded data removed]",
      "text/plain": [
       "<Figure size 864x576 with 9 Axes>"
      ]
     },
     "metadata": {
      "needs_background": "light"
     },
     "output_type": "display_data"
    }
   ],
   "source": [
    "df.drop('Potability', axis=1).hist(figsize=(12,8))"
   ]
  },
  {
   "cell_type": "code",
   "execution_count": 70,
   "id": "c2247728",
   "metadata": {},
   "outputs": [
    {
     "data": {
      "text/html": [
       "<div>\n",
       "<style scoped>\n",
       "    .dataframe tbody tr th:only-of-type {\n",
       "        vertical-align: middle;\n",
       "    }\n",
       "\n",
       "    .dataframe tbody tr th {\n",
       "        vertical-align: top;\n",
       "    }\n",
       "\n",
       "    .dataframe thead th {\n",
       "        text-align: right;\n",
       "    }\n",
       "</style>\n",
       "<table border=\"1\" class=\"dataframe\">\n",
       "  <thead>\n",
       "    <tr style=\"text-align: right;\">\n",
       "      <th></th>\n",
       "      <th>ph</th>\n",
       "      <th>Hardness</th>\n",
       "      <th>Solids</th>\n",
       "      <th>Chloramines</th>\n",
       "      <th>Sulfate</th>\n",
       "      <th>Conductivity</th>\n",
       "      <th>Organic_carbon</th>\n",
       "      <th>Trihalomethanes</th>\n",
       "      <th>Turbidity</th>\n",
       "    </tr>\n",
       "  </thead>\n",
       "  <tbody>\n",
       "    <tr>\n",
       "      <th>ph</th>\n",
       "      <td>1.000000</td>\n",
       "      <td>0.075835</td>\n",
       "      <td>-0.082187</td>\n",
       "      <td>-0.031787</td>\n",
       "      <td>0.014177</td>\n",
       "      <td>0.017517</td>\n",
       "      <td>0.040266</td>\n",
       "      <td>0.003146</td>\n",
       "      <td>-0.036142</td>\n",
       "    </tr>\n",
       "    <tr>\n",
       "      <th>Hardness</th>\n",
       "      <td>0.075835</td>\n",
       "      <td>1.000000</td>\n",
       "      <td>-0.047814</td>\n",
       "      <td>-0.030674</td>\n",
       "      <td>-0.092919</td>\n",
       "      <td>-0.023414</td>\n",
       "      <td>0.004719</td>\n",
       "      <td>-0.012720</td>\n",
       "      <td>-0.015414</td>\n",
       "    </tr>\n",
       "    <tr>\n",
       "      <th>Solids</th>\n",
       "      <td>-0.082187</td>\n",
       "      <td>-0.047814</td>\n",
       "      <td>1.000000</td>\n",
       "      <td>-0.072385</td>\n",
       "      <td>-0.150084</td>\n",
       "      <td>0.013918</td>\n",
       "      <td>0.009512</td>\n",
       "      <td>-0.008820</td>\n",
       "      <td>0.018824</td>\n",
       "    </tr>\n",
       "    <tr>\n",
       "      <th>Chloramines</th>\n",
       "      <td>-0.031787</td>\n",
       "      <td>-0.030674</td>\n",
       "      <td>-0.072385</td>\n",
       "      <td>1.000000</td>\n",
       "      <td>0.023779</td>\n",
       "      <td>-0.019203</td>\n",
       "      <td>-0.013751</td>\n",
       "      <td>0.016638</td>\n",
       "      <td>0.002106</td>\n",
       "    </tr>\n",
       "    <tr>\n",
       "      <th>Sulfate</th>\n",
       "      <td>0.014177</td>\n",
       "      <td>-0.092919</td>\n",
       "      <td>-0.150084</td>\n",
       "      <td>0.023779</td>\n",
       "      <td>1.000000</td>\n",
       "      <td>-0.014197</td>\n",
       "      <td>0.027122</td>\n",
       "      <td>-0.025657</td>\n",
       "      <td>-0.009779</td>\n",
       "    </tr>\n",
       "    <tr>\n",
       "      <th>Conductivity</th>\n",
       "      <td>0.017517</td>\n",
       "      <td>-0.023414</td>\n",
       "      <td>0.013918</td>\n",
       "      <td>-0.019203</td>\n",
       "      <td>-0.014197</td>\n",
       "      <td>1.000000</td>\n",
       "      <td>0.021542</td>\n",
       "      <td>0.001176</td>\n",
       "      <td>0.004976</td>\n",
       "    </tr>\n",
       "    <tr>\n",
       "      <th>Organic_carbon</th>\n",
       "      <td>0.040266</td>\n",
       "      <td>0.004719</td>\n",
       "      <td>0.009512</td>\n",
       "      <td>-0.013751</td>\n",
       "      <td>0.027122</td>\n",
       "      <td>0.021542</td>\n",
       "      <td>1.000000</td>\n",
       "      <td>-0.012961</td>\n",
       "      <td>-0.026861</td>\n",
       "    </tr>\n",
       "    <tr>\n",
       "      <th>Trihalomethanes</th>\n",
       "      <td>0.003146</td>\n",
       "      <td>-0.012720</td>\n",
       "      <td>-0.008820</td>\n",
       "      <td>0.016638</td>\n",
       "      <td>-0.025657</td>\n",
       "      <td>0.001176</td>\n",
       "      <td>-0.012961</td>\n",
       "      <td>1.000000</td>\n",
       "      <td>-0.021500</td>\n",
       "    </tr>\n",
       "    <tr>\n",
       "      <th>Turbidity</th>\n",
       "      <td>-0.036142</td>\n",
       "      <td>-0.015414</td>\n",
       "      <td>0.018824</td>\n",
       "      <td>0.002106</td>\n",
       "      <td>-0.009779</td>\n",
       "      <td>0.004976</td>\n",
       "      <td>-0.026861</td>\n",
       "      <td>-0.021500</td>\n",
       "      <td>1.000000</td>\n",
       "    </tr>\n",
       "  </tbody>\n",
       "</table>\n",
       "</div>"
      ],
      "text/plain": [
       "                       ph  Hardness    Solids  Chloramines   Sulfate  \\\n",
       "ph               1.000000  0.075835 -0.082187    -0.031787  0.014177   \n",
       "Hardness         0.075835  1.000000 -0.047814    -0.030674 -0.092919   \n",
       "Solids          -0.082187 -0.047814  1.000000    -0.072385 -0.150084   \n",
       "Chloramines     -0.031787 -0.030674 -0.072385     1.000000  0.023779   \n",
       "Sulfate          0.014177 -0.092919 -0.150084     0.023779  1.000000   \n",
       "Conductivity     0.017517 -0.023414  0.013918    -0.019203 -0.014197   \n",
       "Organic_carbon   0.040266  0.004719  0.009512    -0.013751  0.027122   \n",
       "Trihalomethanes  0.003146 -0.012720 -0.008820     0.016638 -0.025657   \n",
       "Turbidity       -0.036142 -0.015414  0.018824     0.002106 -0.009779   \n",
       "\n",
       "                 Conductivity  Organic_carbon  Trihalomethanes  Turbidity  \n",
       "ph                   0.017517        0.040266         0.003146  -0.036142  \n",
       "Hardness            -0.023414        0.004719        -0.012720  -0.015414  \n",
       "Solids               0.013918        0.009512        -0.008820   0.018824  \n",
       "Chloramines         -0.019203       -0.013751         0.016638   0.002106  \n",
       "Sulfate             -0.014197        0.027122        -0.025657  -0.009779  \n",
       "Conductivity         1.000000        0.021542         0.001176   0.004976  \n",
       "Organic_carbon       0.021542        1.000000        -0.012961  -0.026861  \n",
       "Trihalomethanes      0.001176       -0.012961         1.000000  -0.021500  \n",
       "Turbidity            0.004976       -0.026861        -0.021500   1.000000  "
      ]
     },
     "execution_count": 70,
     "metadata": {},
     "output_type": "execute_result"
    }
   ],
   "source": [
    "cor=df.drop('Potability',axis=1).corr()\n",
    "cor"
   ]
  },
  {
   "cell_type": "code",
   "execution_count": 76,
   "id": "e14a0bef",
   "metadata": {},
   "outputs": [
    {
     "data": {
      "text/plain": [
       "Text(0.5, 1.0, 'Correlation Heatmap')"
      ]
     },
     "execution_count": 76,
     "metadata": {},
     "output_type": "execute_result"
    },
    {
     "data": {
      "image/png": "[encoded data removed]",
      "text/plain": [
       "<Figure size 432x288 with 2 Axes>"
      ]
     },
     "metadata": {
      "needs_background": "light"
     },
     "output_type": "display_data"
    }
   ],
   "source": [
    "fig = sns.heatmap(cor)\n",
    "\n",
    "fig.set_title('Correlation Heatmap')"
   ]
  },
  {
   "cell_type": "markdown",
   "id": "b3b282a6",
   "metadata": {},
   "source": [
    "#### As we can see, there seems to be very less correlation between all the features."
   ]
  },
  {
   "cell_type": "markdown",
   "id": "2d857694",
   "metadata": {},
   "source": [
    "# Visualisations of meansures with null values"
   ]
  },
  {
   "cell_type": "code",
   "execution_count": 62,
   "id": "abdee173",
   "metadata": {},
   "outputs": [
    {
     "name": "stderr",
     "output_type": "stream",
     "text": [
      "C:\\Users\\HP\\anaconda3\\lib\\site-packages\\seaborn\\_decorators.py:36: FutureWarning: Pass the following variables as keyword args: x, y. From version 0.12, the only valid positional argument will be `data`, and passing other arguments without an explicit keyword will result in an error or misinterpretation.\n",
      "  warnings.warn(\n",
      "C:\\Users\\HP\\anaconda3\\lib\\site-packages\\seaborn\\_decorators.py:36: FutureWarning: Pass the following variables as keyword args: x, y. From version 0.12, the only valid positional argument will be `data`, and passing other arguments without an explicit keyword will result in an error or misinterpretation.\n",
      "  warnings.warn(\n",
      "C:\\Users\\HP\\anaconda3\\lib\\site-packages\\seaborn\\_decorators.py:36: FutureWarning: Pass the following variables as keyword args: x, y. From version 0.12, the only valid positional argument will be `data`, and passing other arguments without an explicit keyword will result in an error or misinterpretation.\n",
      "  warnings.warn(\n"
     ]
    },
    {
     "data": {
      "text/plain": [
       "Text(0.15, 2, 'Min ph for drinkable water is 6,5')"
      ]
     },
     "execution_count": 62,
     "metadata": {},
     "output_type": "execute_result"
    },
    {
     "data": {
      "image/png": "[encoded data removed]",
      "text/plain": [
       "<Figure size 576x432 with 1 Axes>"
      ]
     },
     "metadata": {
      "needs_background": "light"
     },
     "output_type": "display_data"
    }
   ],
   "source": [
    "plt.figure(figsize=(8,6))\n",
    "ax = sns.stripplot(x='Potability', y='ph', data=df)\n",
    "a = [-0.4,1.4]\n",
    "b = [9.5,9.5]\n",
    "sns.lineplot(a,b, color='gray')\n",
    "c = [-0.4,1.4]\n",
    "d = [6.5,6.5]\n",
    "sns.lineplot(a,b, color='gray')\n",
    "xx=sns.lineplot(c,d, color='gray')\n",
    "ax.annotate('Max ph for drinkable water is 9,5', xy=[0.5,9.5], \n",
    "           xytext=[0.1,12.5],\n",
    "           arrowprops={'arrowstyle': '->', 'color':'gray'})\n",
    "xx.annotate('Min ph for drinkable water is 6,5', xy=[0.5,6.5], \n",
    "           xytext=[0.15,2],\n",
    "           arrowprops={'arrowstyle': '->', 'color':'gray'})"
   ]
  },
  {
   "cell_type": "code",
   "execution_count": 51,
   "id": "7e862e8d",
   "metadata": {},
   "outputs": [
    {
     "name": "stderr",
     "output_type": "stream",
     "text": [
      "C:\\Users\\HP\\anaconda3\\lib\\site-packages\\seaborn\\_decorators.py:36: FutureWarning: Pass the following variables as keyword args: x, y. From version 0.12, the only valid positional argument will be `data`, and passing other arguments without an explicit keyword will result in an error or misinterpretation.\n",
      "  warnings.warn(\n"
     ]
    },
    {
     "data": {
      "text/plain": [
       "Text(-0.25, 150, 'Max sulfate for drinkable water is 250 mg/L')"
      ]
     },
     "execution_count": 51,
     "metadata": {},
     "output_type": "execute_result"
    },
    {
     "data": {
      "image/png": "[encoded data removed]",
      "text/plain": [
       "<Figure size 576x432 with 1 Axes>"
      ]
     },
     "metadata": {
      "needs_background": "light"
     },
     "output_type": "display_data"
    }
   ],
   "source": [
    "plt.figure(figsize=(8,6))\n",
    "ax = sns.stripplot(x='Potability', y='Sulfate', data=df)\n",
    "a = [-0.5,1.5]\n",
    "b = [250,250]\n",
    "sns.lineplot(a,b, color='gray')\n",
    "ax.annotate('Max sulfate for drinkable water is 250 mg/L', xy=[0.5,250], \n",
    "           xytext=[-0.25,150],\n",
    "           arrowprops={'arrowstyle': '->', 'color':'gray'})"
   ]
  },
  {
   "cell_type": "code",
   "execution_count": 50,
   "id": "a913739c",
   "metadata": {},
   "outputs": [
    {
     "name": "stderr",
     "output_type": "stream",
     "text": [
      "C:\\Users\\HP\\anaconda3\\lib\\site-packages\\seaborn\\_decorators.py:36: FutureWarning: Pass the following variables as keyword args: x, y. From version 0.12, the only valid positional argument will be `data`, and passing other arguments without an explicit keyword will result in an error or misinterpretation.\n",
      "  warnings.warn(\n"
     ]
    },
    {
     "data": {
      "text/plain": [
       "Text(-0.6, 125, 'Max Trihalomethanes for drinkable water is 100 μg/L')"
      ]
     },
     "execution_count": 50,
     "metadata": {},
     "output_type": "execute_result"
    },
    {
     "data": {
      "image/png": "[encoded data removed]",
      "text/plain": [
       "<Figure size 576x432 with 1 Axes>"
      ]
     },
     "metadata": {
      "needs_background": "light"
     },
     "output_type": "display_data"
    }
   ],
   "source": [
    "plt.figure(figsize=(8,6))\n",
    "ax = sns.stripplot(x='Potability', y='Trihalomethanes', data=df)\n",
    "a = [-0.5,1.5]\n",
    "b = [100,100]\n",
    "sns.lineplot(a,b, color='gray')\n",
    "ax.annotate('Max Trihalomethanes for drinkable water is 100 μg/L', xy=[0.5,100], \n",
    "           xytext=[-0.6,125],\n",
    "           arrowprops={'arrowstyle': '->', 'color':'gray'})"
   ]
  },
  {
   "cell_type": "markdown",
   "id": "ab728114",
   "metadata": {},
   "source": [
    "# Data Preparation - dealing with missing values"
   ]
  },
  {
   "cell_type": "code",
   "execution_count": 63,
   "id": "08d7e93c",
   "metadata": {},
   "outputs": [
    {
     "data": {
      "text/html": [
       "<div>\n",
       "<style scoped>\n",
       "    .dataframe tbody tr th:only-of-type {\n",
       "        vertical-align: middle;\n",
       "    }\n",
       "\n",
       "    .dataframe tbody tr th {\n",
       "        vertical-align: top;\n",
       "    }\n",
       "\n",
       "    .dataframe thead th {\n",
       "        text-align: right;\n",
       "    }\n",
       "</style>\n",
       "<table border=\"1\" class=\"dataframe\">\n",
       "  <thead>\n",
       "    <tr style=\"text-align: right;\">\n",
       "      <th></th>\n",
       "      <th>ph</th>\n",
       "      <th>Hardness</th>\n",
       "      <th>Solids</th>\n",
       "      <th>Chloramines</th>\n",
       "      <th>Sulfate</th>\n",
       "      <th>Conductivity</th>\n",
       "      <th>Organic_carbon</th>\n",
       "      <th>Trihalomethanes</th>\n",
       "      <th>Turbidity</th>\n",
       "      <th>Potability</th>\n",
       "    </tr>\n",
       "  </thead>\n",
       "  <tbody>\n",
       "    <tr>\n",
       "      <th>count</th>\n",
       "      <td>1666.000000</td>\n",
       "      <td>1972.000000</td>\n",
       "      <td>1972.000000</td>\n",
       "      <td>1972.000000</td>\n",
       "      <td>1496.000000</td>\n",
       "      <td>1972.000000</td>\n",
       "      <td>1972.000000</td>\n",
       "      <td>1873.000000</td>\n",
       "      <td>1972.000000</td>\n",
       "      <td>1972.0</td>\n",
       "    </tr>\n",
       "    <tr>\n",
       "      <th>mean</th>\n",
       "      <td>7.065088</td>\n",
       "      <td>196.666961</td>\n",
       "      <td>21784.258743</td>\n",
       "      <td>7.138191</td>\n",
       "      <td>334.573923</td>\n",
       "      <td>426.729451</td>\n",
       "      <td>14.367967</td>\n",
       "      <td>66.494113</td>\n",
       "      <td>3.968688</td>\n",
       "      <td>0.0</td>\n",
       "    </tr>\n",
       "    <tr>\n",
       "      <th>std</th>\n",
       "      <td>1.686784</td>\n",
       "      <td>31.060029</td>\n",
       "      <td>8516.488947</td>\n",
       "      <td>1.447627</td>\n",
       "      <td>36.546200</td>\n",
       "      <td>80.039288</td>\n",
       "      <td>3.348760</td>\n",
       "      <td>16.250336</td>\n",
       "      <td>0.782188</td>\n",
       "      <td>0.0</td>\n",
       "    </tr>\n",
       "    <tr>\n",
       "      <th>min</th>\n",
       "      <td>0.000000</td>\n",
       "      <td>98.452931</td>\n",
       "      <td>320.942611</td>\n",
       "      <td>2.562255</td>\n",
       "      <td>203.444521</td>\n",
       "      <td>181.483754</td>\n",
       "      <td>4.371899</td>\n",
       "      <td>0.738000</td>\n",
       "      <td>1.450000</td>\n",
       "      <td>0.0</td>\n",
       "    </tr>\n",
       "    <tr>\n",
       "      <th>25%</th>\n",
       "      <td>6.008367</td>\n",
       "      <td>177.799573</td>\n",
       "      <td>15715.740730</td>\n",
       "      <td>6.193384</td>\n",
       "      <td>311.318216</td>\n",
       "      <td>368.450634</td>\n",
       "      <td>12.091922</td>\n",
       "      <td>55.816510</td>\n",
       "      <td>3.444706</td>\n",
       "      <td>0.0</td>\n",
       "    </tr>\n",
       "    <tr>\n",
       "      <th>50%</th>\n",
       "      <td>6.992004</td>\n",
       "      <td>197.039446</td>\n",
       "      <td>20838.587290</td>\n",
       "      <td>7.105432</td>\n",
       "      <td>333.389426</td>\n",
       "      <td>422.145751</td>\n",
       "      <td>14.293508</td>\n",
       "      <td>66.659352</td>\n",
       "      <td>3.954840</td>\n",
       "      <td>0.0</td>\n",
       "    </tr>\n",
       "    <tr>\n",
       "      <th>75%</th>\n",
       "      <td>8.135558</td>\n",
       "      <td>216.016872</td>\n",
       "      <td>27011.592306</td>\n",
       "      <td>8.075655</td>\n",
       "      <td>356.769499</td>\n",
       "      <td>481.151513</td>\n",
       "      <td>16.665328</td>\n",
       "      <td>77.382841</td>\n",
       "      <td>4.501133</td>\n",
       "      <td>0.0</td>\n",
       "    </tr>\n",
       "    <tr>\n",
       "      <th>max</th>\n",
       "      <td>14.000000</td>\n",
       "      <td>304.235912</td>\n",
       "      <td>61227.196008</td>\n",
       "      <td>12.653362</td>\n",
       "      <td>460.107069</td>\n",
       "      <td>753.342620</td>\n",
       "      <td>28.300000</td>\n",
       "      <td>120.030077</td>\n",
       "      <td>6.739000</td>\n",
       "      <td>0.0</td>\n",
       "    </tr>\n",
       "  </tbody>\n",
       "</table>\n",
       "</div>"
      ],
      "text/plain": [
       "                ph     Hardness        Solids  Chloramines      Sulfate  \\\n",
       "count  1666.000000  1972.000000   1972.000000  1972.000000  1496.000000   \n",
       "mean      7.065088   196.666961  21784.258743     7.138191   334.573923   \n",
       "std       1.686784    31.060029   8516.488947     1.447627    36.546200   \n",
       "min       0.000000    98.452931    320.942611     2.562255   203.444521   \n",
       "25%       6.008367   177.799573  15715.740730     6.193384   311.318216   \n",
       "50%       6.992004   197.039446  20838.587290     7.105432   333.389426   \n",
       "75%       8.135558   216.016872  27011.592306     8.075655   356.769499   \n",
       "max      14.000000   304.235912  61227.196008    12.653362   460.107069   \n",
       "\n",
       "       Conductivity  Organic_carbon  Trihalomethanes    Turbidity  Potability  \n",
       "count   1972.000000     1972.000000      1873.000000  1972.000000      1972.0  \n",
       "mean     426.729451       14.367967        66.494113     3.968688         0.0  \n",
       "std       80.039288        3.348760        16.250336     0.782188         0.0  \n",
       "min      181.483754        4.371899         0.738000     1.450000         0.0  \n",
       "25%      368.450634       12.091922        55.816510     3.444706         0.0  \n",
       "50%      422.145751       14.293508        66.659352     3.954840         0.0  \n",
       "75%      481.151513       16.665328        77.382841     4.501133         0.0  \n",
       "max      753.342620       28.300000       120.030077     6.739000         0.0  "
      ]
     },
     "execution_count": 63,
     "metadata": {},
     "output_type": "execute_result"
    }
   ],
   "source": [
    "class0=df[df['Potability']==0]\n",
    "class0.describe()"
   ]
  },
  {
   "cell_type": "code",
   "execution_count": 64,
   "id": "b3bc50db",
   "metadata": {},
   "outputs": [
    {
     "data": {
      "text/html": [
       "<div>\n",
       "<style scoped>\n",
       "    .dataframe tbody tr th:only-of-type {\n",
       "        vertical-align: middle;\n",
       "    }\n",
       "\n",
       "    .dataframe tbody tr th {\n",
       "        vertical-align: top;\n",
       "    }\n",
       "\n",
       "    .dataframe thead th {\n",
       "        text-align: right;\n",
       "    }\n",
       "</style>\n",
       "<table border=\"1\" class=\"dataframe\">\n",
       "  <thead>\n",
       "    <tr style=\"text-align: right;\">\n",
       "      <th></th>\n",
       "      <th>ph</th>\n",
       "      <th>Hardness</th>\n",
       "      <th>Solids</th>\n",
       "      <th>Chloramines</th>\n",
       "      <th>Sulfate</th>\n",
       "      <th>Conductivity</th>\n",
       "      <th>Organic_carbon</th>\n",
       "      <th>Trihalomethanes</th>\n",
       "      <th>Turbidity</th>\n",
       "      <th>Potability</th>\n",
       "    </tr>\n",
       "  </thead>\n",
       "  <tbody>\n",
       "    <tr>\n",
       "      <th>count</th>\n",
       "      <td>1119.000000</td>\n",
       "      <td>1295.000000</td>\n",
       "      <td>1295.000000</td>\n",
       "      <td>1295.000000</td>\n",
       "      <td>999.000000</td>\n",
       "      <td>1295.000000</td>\n",
       "      <td>1295.000000</td>\n",
       "      <td>1241.000000</td>\n",
       "      <td>1295.000000</td>\n",
       "      <td>1295.0</td>\n",
       "    </tr>\n",
       "    <tr>\n",
       "      <th>mean</th>\n",
       "      <td>7.104179</td>\n",
       "      <td>195.907862</td>\n",
       "      <td>22362.391981</td>\n",
       "      <td>7.100053</td>\n",
       "      <td>332.580554</td>\n",
       "      <td>425.253200</td>\n",
       "      <td>14.166372</td>\n",
       "      <td>66.248657</td>\n",
       "      <td>3.964396</td>\n",
       "      <td>1.0</td>\n",
       "    </tr>\n",
       "    <tr>\n",
       "      <th>std</th>\n",
       "      <td>1.446165</td>\n",
       "      <td>35.512683</td>\n",
       "      <td>9112.756940</td>\n",
       "      <td>1.771052</td>\n",
       "      <td>47.786216</td>\n",
       "      <td>81.937682</td>\n",
       "      <td>3.244159</td>\n",
       "      <td>16.066057</td>\n",
       "      <td>0.779065</td>\n",
       "      <td>0.0</td>\n",
       "    </tr>\n",
       "    <tr>\n",
       "      <th>min</th>\n",
       "      <td>0.227499</td>\n",
       "      <td>47.432000</td>\n",
       "      <td>728.750830</td>\n",
       "      <td>0.352000</td>\n",
       "      <td>129.000000</td>\n",
       "      <td>201.619737</td>\n",
       "      <td>2.200000</td>\n",
       "      <td>8.175876</td>\n",
       "      <td>1.492207</td>\n",
       "      <td>1.0</td>\n",
       "    </tr>\n",
       "    <tr>\n",
       "      <th>25%</th>\n",
       "      <td>6.229919</td>\n",
       "      <td>174.380497</td>\n",
       "      <td>15638.128264</td>\n",
       "      <td>6.031752</td>\n",
       "      <td>300.991432</td>\n",
       "      <td>360.945241</td>\n",
       "      <td>12.052522</td>\n",
       "      <td>55.876641</td>\n",
       "      <td>3.428401</td>\n",
       "      <td>1.0</td>\n",
       "    </tr>\n",
       "    <tr>\n",
       "      <th>50%</th>\n",
       "      <td>7.071314</td>\n",
       "      <td>196.791251</td>\n",
       "      <td>21190.154943</td>\n",
       "      <td>7.166639</td>\n",
       "      <td>331.838167</td>\n",
       "      <td>420.830866</td>\n",
       "      <td>14.168314</td>\n",
       "      <td>66.608891</td>\n",
       "      <td>3.957012</td>\n",
       "      <td>1.0</td>\n",
       "    </tr>\n",
       "    <tr>\n",
       "      <th>75%</th>\n",
       "      <td>7.967691</td>\n",
       "      <td>218.185080</td>\n",
       "      <td>27968.799685</td>\n",
       "      <td>8.182988</td>\n",
       "      <td>365.951302</td>\n",
       "      <td>483.380949</td>\n",
       "      <td>16.352385</td>\n",
       "      <td>77.286551</td>\n",
       "      <td>4.498377</td>\n",
       "      <td>1.0</td>\n",
       "    </tr>\n",
       "    <tr>\n",
       "      <th>max</th>\n",
       "      <td>13.175402</td>\n",
       "      <td>323.124000</td>\n",
       "      <td>56488.672413</td>\n",
       "      <td>13.127000</td>\n",
       "      <td>481.030642</td>\n",
       "      <td>695.369528</td>\n",
       "      <td>23.604298</td>\n",
       "      <td>124.000000</td>\n",
       "      <td>6.494249</td>\n",
       "      <td>1.0</td>\n",
       "    </tr>\n",
       "  </tbody>\n",
       "</table>\n",
       "</div>"
      ],
      "text/plain": [
       "                ph     Hardness        Solids  Chloramines     Sulfate  \\\n",
       "count  1119.000000  1295.000000   1295.000000  1295.000000  999.000000   \n",
       "mean      7.104179   195.907862  22362.391981     7.100053  332.580554   \n",
       "std       1.446165    35.512683   9112.756940     1.771052   47.786216   \n",
       "min       0.227499    47.432000    728.750830     0.352000  129.000000   \n",
       "25%       6.229919   174.380497  15638.128264     6.031752  300.991432   \n",
       "50%       7.071314   196.791251  21190.154943     7.166639  331.838167   \n",
       "75%       7.967691   218.185080  27968.799685     8.182988  365.951302   \n",
       "max      13.175402   323.124000  56488.672413    13.127000  481.030642   \n",
       "\n",
       "       Conductivity  Organic_carbon  Trihalomethanes    Turbidity  Potability  \n",
       "count   1295.000000     1295.000000      1241.000000  1295.000000      1295.0  \n",
       "mean     425.253200       14.166372        66.248657     3.964396         1.0  \n",
       "std       81.937682        3.244159        16.066057     0.779065         0.0  \n",
       "min      201.619737        2.200000         8.175876     1.492207         1.0  \n",
       "25%      360.945241       12.052522        55.876641     3.428401         1.0  \n",
       "50%      420.830866       14.168314        66.608891     3.957012         1.0  \n",
       "75%      483.380949       16.352385        77.286551     4.498377         1.0  \n",
       "max      695.369528       23.604298       124.000000     6.494249         1.0  "
      ]
     },
     "execution_count": 64,
     "metadata": {},
     "output_type": "execute_result"
    }
   ],
   "source": [
    "class1=df[df['Potability']==1]\n",
    "class1.describe()"
   ]
  },
  {
   "cell_type": "code",
   "execution_count": 65,
   "id": "beeebb46",
   "metadata": {},
   "outputs": [
    {
     "data": {
      "text/plain": [
       "ph                   6.992004\n",
       "Sulfate            333.389426\n",
       "Trihalomethanes     66.659352\n",
       "dtype: float64"
      ]
     },
     "execution_count": 65,
     "metadata": {},
     "output_type": "execute_result"
    }
   ],
   "source": [
    "df[df['Potability']==0][['ph','Sulfate','Trihalomethanes']].median()"
   ]
  },
  {
   "cell_type": "code",
   "execution_count": 66,
   "id": "a7f62c99",
   "metadata": {},
   "outputs": [
    {
     "data": {
      "text/plain": [
       "ph                   7.071314\n",
       "Sulfate            331.838167\n",
       "Trihalomethanes     66.608891\n",
       "dtype: float64"
      ]
     },
     "execution_count": 66,
     "metadata": {},
     "output_type": "execute_result"
    }
   ],
   "source": [
    "df[df['Potability']==1][['ph','Sulfate','Trihalomethanes']].median()"
   ]
  },
  {
   "cell_type": "markdown",
   "id": "08413a3e",
   "metadata": {},
   "source": [
    "#### We can see that the difference between the mean and median values of Potable and Non-Potable Water is minimal. So we use the overall median of the feature to impute the values"
   ]
  },
  {
   "cell_type": "code",
   "execution_count": 67,
   "id": "c7841f12",
   "metadata": {},
   "outputs": [],
   "source": [
    "df['ph'].fillna(value=df['ph'].median(),inplace=True)\n",
    "df['Sulfate'].fillna(value=df['Sulfate'].median(),inplace=True)\n",
    "df['Trihalomethanes'].fillna(value=df['Trihalomethanes'].median(),inplace=True)"
   ]
  },
  {
   "cell_type": "code",
   "execution_count": 68,
   "id": "d47f071a",
   "metadata": {},
   "outputs": [
    {
     "data": {
      "text/plain": [
       "ph                 0\n",
       "Hardness           0\n",
       "Solids             0\n",
       "Chloramines        0\n",
       "Sulfate            0\n",
       "Conductivity       0\n",
       "Organic_carbon     0\n",
       "Trihalomethanes    0\n",
       "Turbidity          0\n",
       "Potability         0\n",
       "dtype: int64"
      ]
     },
     "execution_count": 68,
     "metadata": {},
     "output_type": "execute_result"
    }
   ],
   "source": [
    "df.isnull().sum()"
   ]
  },
  {
   "cell_type": "markdown",
   "id": "e7fc9ad7",
   "metadata": {},
   "source": [
    "# Standardizing The Data"
   ]
  },
  {
   "cell_type": "code",
   "execution_count": 77,
   "id": "94e84ad1",
   "metadata": {},
   "outputs": [],
   "source": [
    "# Data Pre-processing Libraries\n",
    "from sklearn.preprocessing import StandardScaler,MinMaxScaler\n",
    "from sklearn.model_selection import train_test_split"
   ]
  },
  {
   "cell_type": "code",
   "execution_count": 78,
   "id": "217eda94",
   "metadata": {},
   "outputs": [],
   "source": [
    "X = df.drop('Potability',axis=1).values\n",
    "y = df['Potability'].values"
   ]
  },
  {
   "cell_type": "code",
   "execution_count": 79,
   "id": "b525f0aa",
   "metadata": {},
   "outputs": [],
   "source": [
    "X_train, X_test, y_train, y_test = train_test_split(X, y, test_size=0.3, random_state=42)"
   ]
  },
  {
   "cell_type": "code",
   "execution_count": 80,
   "id": "da339198",
   "metadata": {},
   "outputs": [],
   "source": [
    "scaler = StandardScaler()\n",
    "scaler.fit(X_train)\n",
    "X_train = scaler.transform(X_train)\n",
    "X_test = scaler.transform(X_test)"
   ]
  },
  {
   "cell_type": "code",
   "execution_count": 81,
   "id": "777dc9ef",
   "metadata": {},
   "outputs": [
    {
     "data": {
      "text/plain": [
       "array([[ 0.5334172 ,  0.07439224, -0.18176156, ...,  0.65520782,\n",
       "         0.01811387,  0.45656846],\n",
       "       [ 0.64052317, -0.81992826, -0.32775598, ...,  0.25865315,\n",
       "         0.10576128, -0.27640969],\n",
       "       [-1.59000645,  1.67739712,  0.09499178, ...,  0.68006443,\n",
       "         0.02483385, -0.04687397],\n",
       "       ...,\n",
       "       [ 0.00589606, -0.12579489,  0.40549248, ...,  0.06304028,\n",
       "        -0.14038049,  0.04825213],\n",
       "       [ 0.46175963, -0.69036951, -0.74536395, ..., -0.94829111,\n",
       "         1.34153737, -0.88269954],\n",
       "       [ 0.05829301,  0.4949176 ,  1.23919555, ..., -0.4882365 ,\n",
       "        -0.51292191,  1.31896164]])"
      ]
     },
     "execution_count": 81,
     "metadata": {},
     "output_type": "execute_result"
    }
   ],
   "source": [
    "X_train"
   ]
  },
  {
   "cell_type": "markdown",
   "id": "85df7572",
   "metadata": {},
   "source": [
    "# Modelling - spot checking"
   ]
  },
  {
   "cell_type": "code",
   "execution_count": 86,
   "id": "bd5fff9e",
   "metadata": {},
   "outputs": [],
   "source": [
    "# Modelling Libraries\n",
    "from sklearn.linear_model import LogisticRegression,RidgeClassifier,SGDClassifier,PassiveAggressiveClassifier\n",
    "from sklearn.svm import SVC,LinearSVC\n",
    "from sklearn.neighbors import KNeighborsClassifier,NearestCentroid\n",
    "from sklearn.tree import DecisionTreeClassifier\n",
    "from sklearn.ensemble import RandomForestClassifier,AdaBoostClassifier,GradientBoostingClassifier\n",
    "from sklearn.naive_bayes import GaussianNB\n",
    "\n",
    "# Evaluation & CV Libraries\n",
    "from sklearn.metrics import precision_score,accuracy_score\n",
    "from sklearn.model_selection import RandomizedSearchCV,GridSearchCV,RepeatedStratifiedKFold"
   ]
  },
  {
   "cell_type": "code",
   "execution_count": 87,
   "id": "d971e950",
   "metadata": {},
   "outputs": [],
   "source": [
    "models =[(\"LR\", LogisticRegression(max_iter=1000)),(\"SVC\", SVC()),('KNN',KNeighborsClassifier(n_neighbors=10)),\n",
    "         (\"DTC\", DecisionTreeClassifier()),(\"GNB\", GaussianNB()),\n",
    "        (\"SGDC\", SGDClassifier()),(\"NC\",NearestCentroid()), (\"Ridge\", RidgeClassifier()),\n",
    "         ('RF',RandomForestClassifier()),('ADA',AdaBoostClassifier()),\n",
    "        ('XGB',GradientBoostingClassifier()),('PAC',PassiveAggressiveClassifier())]\n",
    "\n",
    "results = []\n",
    "names = []\n",
    "finalResults = []\n",
    "\n",
    "for name,model in models:\n",
    "    model.fit(X_train, y_train)\n",
    "    model_results = model.predict(X_test)\n",
    "    score = precision_score(y_test, model_results,average='macro')\n",
    "    results.append(score)\n",
    "    names.append(name)\n",
    "    finalResults.append((name,score))\n",
    "    \n",
    "finalResults.sort(key=lambda k:k[1],reverse=True)"
   ]
  },
  {
   "cell_type": "code",
   "execution_count": 88,
   "id": "117af9c9",
   "metadata": {},
   "outputs": [
    {
     "data": {
      "text/plain": [
       "[('SVC', 0.6651362011586344),\n",
       " ('KNN', 0.6496648115355427),\n",
       " ('RF', 0.646320359463234),\n",
       " ('XGB', 0.6276759389821818),\n",
       " ('LR', 0.6125),\n",
       " ('Ridge', 0.6125),\n",
       " ('GNB', 0.5996365446511374),\n",
       " ('ADA', 0.5586032741205156),\n",
       " ('DTC', 0.5502734315013564),\n",
       " ('PAC', 0.5268726444723618),\n",
       " ('NC', 0.487653191878544),\n",
       " ('SGDC', 0.484095274683058)]"
      ]
     },
     "execution_count": 88,
     "metadata": {},
     "output_type": "execute_result"
    }
   ],
   "source": [
    "finalResults"
   ]
  },
  {
   "cell_type": "markdown",
   "id": "2a101bef",
   "metadata": {},
   "source": [
    "#### I chose the top 4 baseline models and performed Hyperparameter tuning to it. "
   ]
  },
  {
   "cell_type": "markdown",
   "id": "b3d7bb4b",
   "metadata": {},
   "source": [
    "# Hyperparameter Tuning"
   ]
  },
  {
   "cell_type": "code",
   "execution_count": null,
   "id": "78412d13",
   "metadata": {},
   "outputs": [],
   "source": []
  }
 ],
 "metadata": {
  "kernelspec": {
   "display_name": "Python 3 (ipykernel)",
   "language": "python",
   "name": "python3"
  },
  "language_info": {
   "codemirror_mode": {
    "name": "ipython",
    "version": 3
   },
   "file_extension": ".py",
   "mimetype": "text/x-python",
   "name": "python",
   "nbconvert_exporter": "python",
   "pygments_lexer": "ipython3",
   "version": "3.9.12"
  }
 },
 "nbformat": 4,
 "nbformat_minor": 5
}
